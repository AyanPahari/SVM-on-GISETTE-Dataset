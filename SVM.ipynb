{
 "cells": [
  {
   "cell_type": "markdown",
   "id": "f08bbb71",
   "metadata": {},
   "source": [
    "# Question 5 SVM Programming Assignment"
   ]
  },
  {
   "cell_type": "markdown",
   "id": "09022ea2",
   "metadata": {},
   "source": [
    "## Preprocessing Step(Preparing the Data)"
   ]
  },
  {
   "cell_type": "code",
   "execution_count": 37,
   "id": "3bb63018",
   "metadata": {},
   "outputs": [],
   "source": [
    "#make the necessary imports\n",
    "import numpy as np\n",
    "import pandas as pd\n",
    "from sklearn.svm import SVC #importing sklearn's svm module\n",
    "from sklearn.metrics import accuracy_score #importing accuracy_score func from sklearn's metrics module"
   ]
  },
  {
   "cell_type": "markdown",
   "id": "ee5808be",
   "metadata": {},
   "source": [
    "### Note: As the Testing labels were not present for this problem, so I have considered validation data for testing the model accuracy"
   ]
  },
  {
   "cell_type": "code",
   "execution_count": 38,
   "id": "2fa2040d",
   "metadata": {},
   "outputs": [],
   "source": [
    "fil= open(\"gisette_train.data\") #opening the file\n",
    "X_train=[]\n",
    "for row in fil.readlines(): #reading the file line by line\n",
    "    X_train.append((row.strip()).split()) #to get the values tuple by tuple without any whitespaces\n",
    "fil.close()\n",
    "#after this train will contain all the data in form of a numpy array\n",
    "\n",
    "#repeating the same thing for test and valid samples as well\n",
    "\n",
    "fil= open(\"gisette_train.labels\")\n",
    "y_train=[]\n",
    "for row in fil.readlines():\n",
    "    y_train.append((row.strip()).split())\n",
    "fil.close()\n",
    "\n",
    "fil= open(\"gisette_valid.data\")\n",
    "X_test=[]\n",
    "for row in fil.readlines():\n",
    "    X_test.append((row.strip()).split())\n",
    "fil.close()\n",
    "\n",
    "fil= open(\"gisette_valid.labels\")\n",
    "y_test=[]\n",
    "for row in fil.readlines():\n",
    "    y_test.append((row.strip()).split())\n",
    "fil.close()\n",
    "\n",
    "#some type conversions\n",
    "X_train=np.array(X_train).astype(int)\n",
    "y_train= np.array(y_train).astype(int)[:,0]\n",
    "\n",
    "#some type conversions\n",
    "X_test=np.array(X_test).astype(int)\n",
    "y_test= np.array(y_test).astype(int)[:,0]"
   ]
  },
  {
   "cell_type": "code",
   "execution_count": 39,
   "id": "196161bf",
   "metadata": {},
   "outputs": [],
   "source": [
    "#converting from numpy array to pandas dataframe\n",
    "X = pd.DataFrame(X_train)\n",
    "y = y_train\n",
    "val_train = pd.DataFrame(X_test)\n",
    "val_test = y_test"
   ]
  },
  {
   "cell_type": "markdown",
   "id": "2352708c",
   "metadata": {},
   "source": [
    "# 5. (a)"
   ]
  },
  {
   "cell_type": "markdown",
   "id": "56087fae",
   "metadata": {},
   "source": [
    "## Using Linear Kernel"
   ]
  },
  {
   "cell_type": "code",
   "execution_count": 40,
   "id": "3375d5ff",
   "metadata": {},
   "outputs": [],
   "source": [
    "#we will be dealing with linear kernel here\n",
    "svc=SVC(kernel='linear')"
   ]
  },
  {
   "cell_type": "code",
   "execution_count": 41,
   "id": "dddf84c7",
   "metadata": {},
   "outputs": [
    {
     "name": "stdout",
     "output_type": "stream",
     "text": [
      "Training Error: 0.0\n"
     ]
    }
   ],
   "source": [
    "#training the linear kernel\n",
    "svc.fit(X,y)\n",
    "\n",
    "preds_train=svc.predict(X) #making predictions\n",
    "print(\"Training Error: {}\".format(1-accuracy_score(y,preds_train)))"
   ]
  },
  {
   "cell_type": "markdown",
   "id": "0fba92f6",
   "metadata": {},
   "source": [
    "#### Training Error: 0.0"
   ]
  },
  {
   "cell_type": "code",
   "execution_count": 42,
   "id": "b024d272",
   "metadata": {},
   "outputs": [
    {
     "name": "stdout",
     "output_type": "stream",
     "text": [
      "Testing Error: 0.02400000000000002\n"
     ]
    }
   ],
   "source": [
    "preds_test=svc.predict(val_train) #making predictions\n",
    "print(\"Testing Error: {}\".format(1-accuracy_score(val_test,preds_test)))"
   ]
  },
  {
   "cell_type": "markdown",
   "id": "7acf86e6",
   "metadata": {},
   "source": [
    "#### Testing Error: 0.02400000000000002"
   ]
  },
  {
   "cell_type": "code",
   "execution_count": 43,
   "id": "bc69e386",
   "metadata": {},
   "outputs": [
    {
     "name": "stdout",
     "output_type": "stream",
     "text": [
      "Classwise count of support vectors: [542 542]\n",
      "\n",
      "\n",
      "Total number of support vectors: 1084\n"
     ]
    }
   ],
   "source": [
    "print(\"Classwise count of support vectors: {}\".format(svc.n_support_))\n",
    "#for getting the number of suppport vectors for each class\n",
    "print(\"\\n\")\n",
    "print(\"Total number of support vectors: {}\".format(len(svc.support_vectors_)))\n",
    "#for getting the total count of the support vectors"
   ]
  },
  {
   "cell_type": "markdown",
   "id": "2f658460",
   "metadata": {},
   "source": [
    "#### Classwise count of support vectors: [542 542]\n",
    "#### Total number of support vectors: 1084"
   ]
  },
  {
   "cell_type": "markdown",
   "id": "a30f95e2",
   "metadata": {},
   "source": [
    "# 5. (b)"
   ]
  },
  {
   "cell_type": "markdown",
   "id": "2f2a19f9",
   "metadata": {},
   "source": [
    "## Using rbf kernel"
   ]
  },
  {
   "cell_type": "code",
   "execution_count": 25,
   "id": "968f54df",
   "metadata": {},
   "outputs": [],
   "source": [
    "rbf_svc = SVC(kernel='rbf', gamma=0.001)\n",
    "#using the rbf kernel with gamma=0.001"
   ]
  },
  {
   "cell_type": "code",
   "execution_count": 26,
   "id": "e799d8af",
   "metadata": {},
   "outputs": [
    {
     "name": "stdout",
     "output_type": "stream",
     "text": [
      "Training Error: 0.0\n"
     ]
    }
   ],
   "source": [
    "rbf_svc.fit(X,y) #training the rbf kernel\n",
    "preds_train=rbf_svc.predict(X) #making predictions\n",
    "print(\"Training Error: {}\".format(1-accuracy_score(y,preds_train)))"
   ]
  },
  {
   "cell_type": "markdown",
   "id": "b7750c9d",
   "metadata": {},
   "source": [
    "#### Training Error: 0.0"
   ]
  },
  {
   "cell_type": "code",
   "execution_count": 27,
   "id": "eaf03fbf",
   "metadata": {},
   "outputs": [
    {
     "name": "stdout",
     "output_type": "stream",
     "text": [
      "Testing Error: 0.5\n"
     ]
    }
   ],
   "source": [
    "preds_test=rbf_svc.predict(val_train) #making predictions\n",
    "print(\"Testing Error: {}\".format(1-accuracy_score(val_test,preds_test)))"
   ]
  },
  {
   "cell_type": "markdown",
   "id": "61ade857",
   "metadata": {},
   "source": [
    "#### Testing Error: 0.5"
   ]
  },
  {
   "cell_type": "code",
   "execution_count": 28,
   "id": "eefebdd6",
   "metadata": {},
   "outputs": [
    {
     "name": "stdout",
     "output_type": "stream",
     "text": [
      "Classwise count of support vectors: [3000 3000]\n",
      "\n",
      "\n",
      "Total number of support vectors: 6000\n"
     ]
    }
   ],
   "source": [
    "print(\"Classwise count of support vectors: {}\".format(rbf_svc.n_support_))\n",
    "#for getting the number of suppport vectors for each class\n",
    "print(\"\\n\")\n",
    "print(\"Total number of support vectors: {}\".format(len(rbf_svc.support_vectors_)))\n",
    "#for getting the total count of the support vectors"
   ]
  },
  {
   "cell_type": "markdown",
   "id": "7da0444a",
   "metadata": {},
   "source": [
    "#### Classwise count of support vectors: [3000 3000]\n",
    "#### Total number of support vectors: 6000"
   ]
  },
  {
   "cell_type": "markdown",
   "id": "6c5fbc7b",
   "metadata": {},
   "source": [
    "## Using Polynomial kernel"
   ]
  },
  {
   "cell_type": "code",
   "execution_count": 33,
   "id": "061e2b24",
   "metadata": {},
   "outputs": [],
   "source": [
    "poly_svc = SVC(kernel = 'poly', degree = 2, coef0= 1)\n",
    "#degree=2 and coef0=1 because we want a poly kernel of the form (1+x^T.x)^2"
   ]
  },
  {
   "cell_type": "code",
   "execution_count": 34,
   "id": "ccc86aa5",
   "metadata": {},
   "outputs": [
    {
     "name": "stdout",
     "output_type": "stream",
     "text": [
      "Training Error: 0.0004999999999999449\n"
     ]
    }
   ],
   "source": [
    "poly_svc.fit(X,y) #training the poly kernel model\n",
    "preds_train=poly_svc.predict(X) #making predictions\n",
    "print(\"Training Error: {}\".format(1-accuracy_score(y,preds_train)))"
   ]
  },
  {
   "cell_type": "markdown",
   "id": "2e5bb776",
   "metadata": {},
   "source": [
    "#### Training Error: 0.0004999999999999449"
   ]
  },
  {
   "cell_type": "code",
   "execution_count": 35,
   "id": "84e556ef",
   "metadata": {},
   "outputs": [
    {
     "name": "stdout",
     "output_type": "stream",
     "text": [
      "Testing Error: 0.020000000000000018\n"
     ]
    }
   ],
   "source": [
    "preds_test=poly_svc.predict(val_train) #making predictions\n",
    "print(\"Testing Error: {}\".format(1-accuracy_score(val_test,preds_test)))"
   ]
  },
  {
   "cell_type": "markdown",
   "id": "cdbf9789",
   "metadata": {},
   "source": [
    "#### Testing Error: 0.020000000000000018"
   ]
  },
  {
   "cell_type": "code",
   "execution_count": 36,
   "id": "4a1a7158",
   "metadata": {},
   "outputs": [
    {
     "name": "stdout",
     "output_type": "stream",
     "text": [
      "Classwise count of support vectors: [641 691]\n",
      "\n",
      "\n",
      "Total number of support vectors: 1332\n"
     ]
    }
   ],
   "source": [
    "print(\"Classwise count of support vectors: {}\".format(poly_svc.n_support_))\n",
    "#for getting the number of suppport vectors for each class\n",
    "print(\"\\n\")\n",
    "print(\"Total number of support vectors: {}\".format(len(poly_svc.support_vectors_)))\n",
    "#for getting the total count of the support vectors"
   ]
  },
  {
   "cell_type": "markdown",
   "id": "0889610d",
   "metadata": {},
   "source": [
    "#### Classwise count of support vectors: [641 691]\n",
    "#### Total number of support vectors: 1332"
   ]
  },
  {
   "cell_type": "markdown",
   "id": "5e544f70",
   "metadata": {},
   "source": [
    "### linear and rbf both yielded the lowest training error of 0"
   ]
  }
 ],
 "metadata": {
  "kernelspec": {
   "display_name": "Python 3",
   "language": "python",
   "name": "python3"
  },
  "language_info": {
   "codemirror_mode": {
    "name": "ipython",
    "version": 3
   },
   "file_extension": ".py",
   "mimetype": "text/x-python",
   "name": "python",
   "nbconvert_exporter": "python",
   "pygments_lexer": "ipython3",
   "version": "3.8.8"
  }
 },
 "nbformat": 4,
 "nbformat_minor": 5
}
